{
 "cells": [
  {
   "cell_type": "markdown",
   "metadata": {},
   "source": [
    "# Linear Regression with GDA + hypertuning of LR and Epoch + end result"
   ]
  },
  {
   "cell_type": "code",
   "execution_count": 335,
   "metadata": {},
   "outputs": [],
   "source": [
    "import numpy as np\n",
    "import matplotlib.pyplot as plt"
   ]
  },
  {
   "cell_type": "markdown",
   "metadata": {},
   "source": [
    "## Part 1: Loading - Central Cee"
   ]
  },
  {
   "cell_type": "code",
   "execution_count": 336,
   "metadata": {},
   "outputs": [
    {
     "name": "stdout",
     "output_type": "stream",
     "text": [
      "    X   y\n",
      "0   1   2\n",
      "1   2   4\n",
      "2   3   6\n",
      "3   4   8\n",
      "4   5  10\n",
      "5   6  12\n",
      "6   7  14\n",
      "7   8  15\n",
      "8   9  16\n",
      "9  10  20\n",
      "X shape: (10, 1)\n",
      "y shape: (10,)\n"
     ]
    }
   ],
   "source": [
    "# Load the dataset fro csv dataset.csv\n",
    "\n",
    "import pandas as pd\n",
    "data = pd.read_csv('dataset.csv')\n",
    "print(data.head(10))\n",
    "\n",
    "# Extract the X and y values from the dataset\n",
    "X = data['X'].values\n",
    "y = data['y'].values\n",
    "\n",
    "X = X.reshape(-1, 1)\n",
    "\n",
    "print(\"X shape:\", X.shape)\n",
    "print(\"y shape:\", y.shape)"
   ]
  },
  {
   "cell_type": "markdown",
   "metadata": {},
   "source": [
    "## Part 2: Split -James McAvoy"
   ]
  },
  {
   "cell_type": "code",
   "execution_count": 337,
   "metadata": {},
   "outputs": [
    {
     "name": "stdout",
     "output_type": "stream",
     "text": [
      "Training set size: 6\n",
      "Validation set size: 2\n",
      "Test set size: 2\n"
     ]
    }
   ],
   "source": [
    "def split_dataset(X, y, train_ratio=0.6, val_ratio=0.2, test_ratio=0.2):\n",
    "    \n",
    "    n_samples = len(X)\n",
    "    n_train = int(n_samples * train_ratio)\n",
    "    n_val = int(n_samples * val_ratio)\n",
    "    \n",
    "    indices = np.random.permutation(n_samples)\n",
    "    \n",
    "    train_indices = indices[:n_train]\n",
    "    val_indices = indices[n_train:n_train+n_val]\n",
    "    test_indices = indices[n_train+n_val:]\n",
    "    \n",
    "    X_train, y_train = X[train_indices], y[train_indices]\n",
    "    X_val, y_val = X[val_indices], y[val_indices]\n",
    "    X_test, y_test = X[test_indices], y[test_indices]\n",
    "    \n",
    "    return X_train, y_train, X_val, y_val, X_test, y_test\n",
    "\n",
    "X_train, y_train, X_val, y_val, X_test, y_test = split_dataset(X, y)\n",
    "\n",
    "print(\"Training set size:\", len(X_train))\n",
    "print(\"Validation set size:\", len(X_val))\n",
    "print(\"Test set size:\", len(X_test))"
   ]
  },
  {
   "cell_type": "markdown",
   "metadata": {},
   "source": [
    "## Part 3: Descent - Warner Bros"
   ]
  },
  {
   "cell_type": "code",
   "execution_count": 338,
   "metadata": {},
   "outputs": [],
   "source": [
    "def gradient_descent(X, y, learning_rate=0.01, iterations=1000):\n",
    "    m = len(y)\n",
    "    theta = np.zeros(2)\n",
    "    \n",
    "    for _ in range(iterations):\n",
    "        h = theta[0] + theta[1] * X.flatten()\n",
    "        gradient = np.array([\n",
    "            np.sum(h - y) / m,\n",
    "            np.sum((h - y) * X.flatten()) / m\n",
    "        ])\n",
    "        theta -= learning_rate * gradient\n",
    "    \n",
    "    return theta\n",
    "\n",
    "def mean_squared_error(y_true, y_pred):\n",
    "    return np.mean((y_true - y_pred) ** 2)"
   ]
  },
  {
   "cell_type": "markdown",
   "metadata": {},
   "source": [
    "## Part 4: Hyperparameter tuning, learning rates"
   ]
  },
  {
   "cell_type": "code",
   "execution_count": 339,
   "metadata": {},
   "outputs": [
    {
     "name": "stdout",
     "output_type": "stream",
     "text": [
      "Learning rate: 0.00025, Validation MSE: 0.20106614281625823\n",
      "Learning rate: 0.0005, Validation MSE: 0.20062948351947046\n",
      "Learning rate: 0.00075, Validation MSE: 0.2001937721067773\n",
      "Learning rate: 0.001, Validation MSE: 0.19975900646594086\n",
      "Learning rate: 0.00125, Validation MSE: 0.1993251845450566\n",
      "Learning rate: 0.0015, Validation MSE: 0.19889230429666999\n",
      "Learning rate: 0.00175, Validation MSE: 0.19846036367776676\n",
      "Learning rate: 0.002, Validation MSE: 0.19802936064976345\n",
      "Learning rate: 0.00225, Validation MSE: 0.19759929317849406\n",
      "Learning rate: 0.0025, Validation MSE: 0.19717015923420966\n",
      "Learning rate: 0.00275, Validation MSE: 0.19674195679155643\n",
      "Learning rate: 0.003, Validation MSE: 0.19631468382957634\n",
      "Learning rate: 0.00325, Validation MSE: 0.19588833833169222\n",
      "Learning rate: 0.0035, Validation MSE: 0.19546291828570017\n",
      "Learning rate: 0.00375, Validation MSE: 0.19503842168375993\n",
      "Learning rate: 0.004, Validation MSE: 0.1946148465223861\n",
      "Learning rate: 0.00425, Validation MSE: 0.19419219080243538\n",
      "Learning rate: 0.0045, Validation MSE: 0.19377045252910235\n",
      "Learning rate: 0.00475, Validation MSE: 0.19334962971190517\n",
      "Learning rate: 0.005, Validation MSE: 0.19292972036467984\n",
      "Learning rate: 0.00525, Validation MSE: 0.19251072250556897\n",
      "Learning rate: 0.0055, Validation MSE: 0.1920926341570123\n",
      "Learning rate: 0.00575, Validation MSE: 0.19167545334573843\n",
      "Learning rate: 0.006, Validation MSE: 0.19125917810275486\n",
      "Learning rate: 0.00625, Validation MSE: 0.19084380646333926\n",
      "Learning rate: 0.0065, Validation MSE: 0.1904293364670285\n",
      "Learning rate: 0.00675, Validation MSE: 0.19001576615761326\n",
      "Learning rate: 0.007, Validation MSE: 0.18960309358312386\n",
      "Learning rate: 0.00725, Validation MSE: 0.18919131679582474\n",
      "Learning rate: 0.0075, Validation MSE: 0.1887804338522041\n",
      "Learning rate: 0.00775, Validation MSE: 0.1883704428129634\n",
      "Learning rate: 0.008, Validation MSE: 0.18796134174301243\n",
      "Learning rate: 0.00825, Validation MSE: 0.18755312871145324\n",
      "Learning rate: 0.0085, Validation MSE: 0.18714580179157894\n",
      "Learning rate: 0.00875, Validation MSE: 0.18673935906085753\n",
      "Learning rate: 0.009, Validation MSE: 0.18633379860092852\n",
      "Learning rate: 0.00925, Validation MSE: 0.18592911849759164\n",
      "Learning rate: 0.0095, Validation MSE: 0.18552531684079432\n",
      "Learning rate: 0.00975, Validation MSE: 0.18512239172463024\n",
      "\n",
      "Best learning rate: 0.00975\n",
      "Best validation MSE: 0.18512239172463024\n"
     ]
    }
   ],
   "source": [
    "learning_rates = [x/4000 for x in range(1,40)]\n",
    "best_lr = None\n",
    "best_val_mse = float('inf')\n",
    "best_theta = None\n",
    "\n",
    "for lr in learning_rates:\n",
    "    theta = gradient_descent(X_val, y_val, learning_rate=lr)\n",
    "    y_val_pred = theta[0] + theta[1] * X_val.flatten()\n",
    "    val_mse = mean_squared_error(y_val, y_val_pred)\n",
    "    \n",
    "    print(f\"Learning rate: {lr}, Validation MSE: {val_mse}\")\n",
    "    \n",
    "    if val_mse < best_val_mse:\n",
    "        best_val_mse = val_mse\n",
    "        best_lr = lr\n",
    "        best_theta = theta\n",
    "\n",
    "print(f\"\\nBest learning rate: {best_lr}\")\n",
    "print(f\"Best validation MSE: {best_val_mse}\")https://accounts.google.com/AccountChooser?continue=https%3A%2F%2Fclassroom.google.com%2F%3Fpli%3D1&ddm=0"
   ]
  },
  {
   "cell_type": "markdown",
   "metadata": {},
   "source": [
    "## Part 4:  Hyperparameter tuning - epochs"
   ]
  },
  {
   "cell_type": "code",
   "execution_count": 340,
   "metadata": {},
   "outputs": [
    {
     "name": "stdout",
     "output_type": "stream",
     "text": [
      "Epoch: 50, Validation MSE: 0.20065127682307599\n",
      "Epoch: 100, Validation MSE: 0.1998024082084585\n",
      "Epoch: 150, Validation MSE: 0.19895713078915409\n",
      "Epoch: 200, Validation MSE: 0.19811542937237214\n",
      "Epoch: 250, Validation MSE: 0.1972772888295935\n",
      "Epoch: 300, Validation MSE: 0.19644269409630408\n",
      "Epoch: 350, Validation MSE: 0.19561163017172087\n",
      "Epoch: 400, Validation MSE: 0.19478408211852116\n",
      "Epoch: 450, Validation MSE: 0.19396003506257675\n",
      "Epoch: 500, Validation MSE: 0.19313947419268584\n",
      "Epoch: 550, Validation MSE: 0.19232238476030528\n"
     ]
    },
    {
     "name": "stdout",
     "output_type": "stream",
     "text": [
      "Epoch: 600, Validation MSE: 0.19150875207928636\n",
      "Epoch: 650, Validation MSE: 0.19069856152561243\n",
      "Epoch: 700, Validation MSE: 0.18989179853713362\n",
      "Epoch: 750, Validation MSE: 0.1890884486133082\n",
      "Epoch: 800, Validation MSE: 0.18828849731493594\n",
      "Epoch: 850, Validation MSE: 0.18749193026390737\n",
      "Epoch: 900, Validation MSE: 0.18669873314293714\n",
      "Epoch: 950, Validation MSE: 0.1859088916953115\n",
      "Epoch: 1000, Validation MSE: 0.18512239172463024\n",
      "Epoch: 1050, Validation MSE: 0.18433921909455273\n",
      "Epoch: 1100, Validation MSE: 0.18355935972854237\n",
      "Epoch: 1150, Validation MSE: 0.18278279960961458\n",
      "Epoch: 1200, Validation MSE: 0.18200952478008325\n",
      "Epoch: 1250, Validation MSE: 0.1812395213413141\n",
      "Epoch: 1300, Validation MSE: 0.18047277545346913\n",
      "Epoch: 1350, Validation MSE: 0.17970927333526165\n",
      "Epoch: 1400, Validation MSE: 0.17894900126370933\n",
      "Epoch: 1450, Validation MSE: 0.17819194557388232\n",
      "Epoch: 1500, Validation MSE: 0.17743809265866453\n",
      "\n",
      "Best epoch: 1500\n",
      "Best validation MSE: 0.17743809265866453\n"
     ]
    }
   ],
   "source": [
    "epochs = [(x*50+50) for x in range(30)]\n",
    "best_epoch= None\n",
    "best_val_mse = float('inf')\n",
    "best_theta = None\n",
    "\n",
    "for epoch in epochs:\n",
    "    theta = gradient_descent(X_val, y_val, learning_rate=best_lr, iterations=epoch)\n",
    "    y_val_pred = theta[0] + theta[1] * X_val.flatten()\n",
    "    val_mse = mean_squared_error(y_val, y_val_pred)\n",
    "    \n",
    "    print(f\"Epoch: {epoch}, Validation MSE: {val_mse}\")\n",
    "    \n",
    "    if val_mse < best_val_mse:\n",
    "        best_val_mse = val_mse\n",
    "        best_epoch = epoch\n",
    "        best_theta = theta\n",
    "\n",
    "print(f\"\\nBest epoch: {best_epoch}\")\n",
    "print(f\"Best validation MSE: {best_val_mse}\")"
   ]
  },
  {
   "cell_type": "markdown",
   "metadata": {},
   "source": [
    "## Part 5: Final Parameters after Hyperparameter Tuning"
   ]
  },
  {
   "cell_type": "code",
   "execution_count": 341,
   "metadata": {},
   "outputs": [
    {
     "name": "stdout",
     "output_type": "stream",
     "text": [
      "Final parameters (theta): [0.66746848 1.84066623]\n",
      "The linear regression equation is: y = 0.6675 + 1.8407x\n",
      "best epoch: 1500\n",
      "best learning rate: 0.00975\n"
     ]
    }
   ],
   "source": [
    "print(\"Final parameters (theta):\", best_theta)\n",
    "print(f\"The linear regression equation is: y = {best_theta[0]:.4f} + {best_theta[1]:.4f}x\")\n",
    "print(f\"best epoch: {best_epoch}\")\n",
    "print(f\"best learning rate: {best_lr}\")"
   ]
  },
  {
   "cell_type": "markdown",
   "metadata": {},
   "source": [
    "## Part 6: Test your model on the testing data"
   ]
  },
  {
   "cell_type": "code",
   "execution_count": 342,
   "metadata": {},
   "outputs": [
    {
     "name": "stdout",
     "output_type": "stream",
     "text": [
      "Test MSE: 0.43696331667920196\n"
     ]
    },
    {
     "data": {
      "image/png": "[encoded data removed]",
      "text/plain": [
       "<Figure size 1000x600 with 1 Axes>"
      ]
     },
     "metadata": {},
     "output_type": "display_data"
    }
   ],
   "source": [
    "\n",
    "y_test_pred = best_theta[0] + best_theta[1] * X_test.flatten()\n",
    "\n",
    "test_mse = mean_squared_error(y_test, y_test_pred)\n",
    "print(\"Test MSE:\", test_mse)\n",
    "\n",
    "# Plot the results\n",
    "plt.figure(figsize=(10, 6))\n",
    "plt.scatter(X, y, color='blue', label='Actual data')\n",
    "plt.plot(X, best_theta[0] + best_theta[1] * X.flatten(), color='red', label='Regression line')\n",
    "plt.xlabel('Study duration in hours')\n",
    "plt.ylabel('exam score')\n",
    "plt.title('Linear Regression with Gradient Descent')\n",
    "plt.legend()\n",
    "plt.show()"
   ]
  }
 ],
 "metadata": {
  "kernelspec": {
   "display_name": ".venv",
   "language": "python",
   "name": "python3"
  },
  "language_info": {
   "codemirror_mode": {
    "name": "ipython",
    "version": 3
   },
   "file_extension": ".py",
   "mimetype": "text/x-python",
   "name": "python",
   "nbconvert_exporter": "python",
   "pygments_lexer": "ipython3",
   "version": "3.12.6"
  }
 },
 "nbformat": 4,
 "nbformat_minor": 4
}
