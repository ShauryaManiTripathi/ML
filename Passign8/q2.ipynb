{
 "cells": [
  {
   "cell_type": "code",
   "execution_count": 20,
   "metadata": {},
   "outputs": [],
   "source": [
    "import numpy as np\n",
    "import pandas as pd\n",
    "from sklearn.datasets import load_wine\n",
    "from sklearn.model_selection import train_test_split\n",
    "from sklearn.preprocessing import StandardScaler\n",
    "from sklearn.metrics import accuracy_score, precision_score, recall_score"
   ]
  },
  {
   "cell_type": "code",
   "execution_count": 21,
   "metadata": {},
   "outputs": [],
   "source": [
    "class SigmoidNeuron:\n",
    "    def __init__(self, learning_rate=0.01, n_iterations=1000):\n",
    "        self.learning_rate = learning_rate\n",
    "        self.n_iterations = n_iterations\n",
    "        \n",
    "    def sigmoid(self, z):\n",
    "        return 1 / (1 + np.exp(-z))\n",
    "    \n",
    "    def fit(self, X, y):\n",
    "        self.weights = np.zeros(X.shape[1])\n",
    "        self.bias = 0\n",
    "        \n",
    "        for _ in range(self.n_iterations):\n",
    "            z = np.dot(X, self.weights) + self.bias\n",
    "            predictions = self.sigmoid(z)\n",
    "            \n",
    "            dz = predictions - y\n",
    "            dw = (1/len(X)) * np.dot(X.T, dz)\n",
    "            db = (1/len(X)) * np.sum(dz)\n",
    "            \n",
    "            self.weights -= self.learning_rate * dw\n",
    "            self.bias -= self.learning_rate * db\n",
    "    \n",
    "    def predict(self, X):\n",
    "        z = np.dot(X, self.weights) + self.bias\n",
    "        predictions = self.sigmoid(z)\n",
    "        return (predictions >= 0.5).astype(int)"
   ]
  },
  {
   "cell_type": "code",
   "execution_count": 22,
   "metadata": {},
   "outputs": [],
   "source": [
    "wine = load_wine()\n",
    "X = wine.data\n",
    "y = wine.target\n",
    "\n",
    "X_train, X_test, y_train, y_test = train_test_split(X, y, test_size=0.2, random_state=42)\n",
    "\n",
    "scaler = StandardScaler()\n",
    "X_train_scaled = scaler.fit_transform(X_train)\n",
    "X_test_scaled = scaler.transform(X_test)"
   ]
  },
  {
   "cell_type": "code",
   "execution_count": 23,
   "metadata": {},
   "outputs": [],
   "source": [
    "classifiers = []\n",
    "n_classes = len(np.unique(y))"
   ]
  },
  {
   "cell_type": "code",
   "execution_count": 24,
   "metadata": {},
   "outputs": [],
   "source": [
    "for class_label in range(n_classes):\n",
    "    y_train_binary = (y_train == class_label).astype(int)\n",
    "    \n",
    "    clf = SigmoidNeuron(learning_rate=0.01, n_iterations=1000)\n",
    "    clf.fit(X_train_scaled, y_train_binary)\n",
    "    classifiers.append(clf)\n",
    "\n",
    "def predict_class(X, classifiers):\n",
    "    predictions = np.array([clf.predict(X) for clf in classifiers])\n",
    "    return np.argmax(predictions, axis=0)\n",
    "\n",
    "y_train_pred = predict_class(X_train_scaled, classifiers)\n",
    "y_test_pred = predict_class(X_test_scaled, classifiers)"
   ]
  },
  {
   "cell_type": "code",
   "execution_count": 25,
   "metadata": {},
   "outputs": [
    {
     "name": "stdout",
     "output_type": "stream",
     "text": [
      "Training Set Metrics:\n",
      "Class\tAccuracy\tPrecision\tRecall\n",
      "--------------------------------------------------\n",
      "0\t0.979\t\t0.938\t\t1.000\n",
      "1\t0.972\t\t1.000\t\t0.930\n",
      "2\t0.993\t\t0.976\t\t1.000\n",
      "\n",
      "Test Set Metrics:\n",
      "Class\tAccuracy\tPrecision\tRecall\n",
      "--------------------------------------------------\n",
      "0\t1.000\t\t1.000\t\t1.000\n",
      "1\t1.000\t\t1.000\t\t1.000\n",
      "2\t1.000\t\t1.000\t\t1.000\n"
     ]
    }
   ],
   "source": [
    "def calculate_metrics(y_true, y_pred, class_label):\n",
    "    y_true_binary = (y_true == class_label).astype(int)\n",
    "    y_pred_binary = (y_pred == class_label).astype(int)\n",
    "    \n",
    "    accuracy = accuracy_score(y_true_binary, y_pred_binary)\n",
    "    precision = precision_score(y_true_binary, y_pred_binary, zero_division=0)\n",
    "    recall = recall_score(y_true_binary, y_pred_binary, zero_division=0)\n",
    "    \n",
    "    return accuracy, precision, recall\n",
    "\n",
    "print(\"Training Set Metrics:\")\n",
    "print(\"Class\\tAccuracy\\tPrecision\\tRecall\")\n",
    "print(\"-\" * 50)\n",
    "for i in range(n_classes):\n",
    "    acc, prec, rec = calculate_metrics(y_train, y_train_pred, i)\n",
    "    print(f\"{i}\\t{acc:.3f}\\t\\t{prec:.3f}\\t\\t{rec:.3f}\")\n",
    "\n",
    "print(\"\\nTest Set Metrics:\")\n",
    "print(\"Class\\tAccuracy\\tPrecision\\tRecall\")\n",
    "print(\"-\" * 50)\n",
    "for i in range(n_classes):\n",
    "    acc, prec, rec = calculate_metrics(y_test, y_test_pred, i)\n",
    "    print(f\"{i}\\t{acc:.3f}\\t\\t{prec:.3f}\\t\\t{rec:.3f}\")"
   ]
  }
 ],
 "metadata": {
  "kernelspec": {
   "display_name": ".venv",
   "language": "python",
   "name": "python3"
  },
  "language_info": {
   "codemirror_mode": {
    "name": "ipython",
    "version": 3
   },
   "file_extension": ".py",
   "mimetype": "text/x-python",
   "name": "python",
   "nbconvert_exporter": "python",
   "pygments_lexer": "ipython3",
   "version": "3.12.6"
  }
 },
 "nbformat": 4,
 "nbformat_minor": 2
}
